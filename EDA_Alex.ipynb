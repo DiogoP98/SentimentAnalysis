{
 "cells": [
  {
   "cell_type": "code",
   "execution_count": 26,
   "metadata": {
    "collapsed": true,
    "pycharm": {
     "is_executing": false
    }
   },
   "outputs": [],
   "source": [
    "import pandas as pd\n",
    "import seaborn as sns\n",
    "import numpy as np\n",
    "from sklearn.feature_extraction.text import CountVectorizer\n",
    "from pprint import pprint"
   ]
  },
  {
   "cell_type": "markdown",
   "source": [
    "Load Data"
   ],
   "metadata": {
    "collapsed": false,
    "pycharm": {
     "name": "#%% md\n"
    }
   }
  },
  {
   "cell_type": "code",
   "execution_count": 27,
   "outputs": [],
   "source": [
    "df = pd.read_csv(\"kindle_reviews.csv\",keep_default_na=False)\n",
    "df = df[~df['reviewText'].str.contains(\"\\.jpg|\\.png|\\.jpeg|\\.tiff|\\.gif|\\.bmp|\\.heif\", regex=True, na=False)]\n",
    "#df.to_csv('kindle_reviews_removed.csv', index=False)"
   ],
   "metadata": {
    "collapsed": false,
    "pycharm": {
     "name": "#%%\n",
     "is_executing": false
    }
   }
  },
  {
   "cell_type": "markdown",
   "source": [
    "Count review Lengths"
   ],
   "metadata": {
    "collapsed": false,
    "pycharm": {
     "name": "#%% md\n"
    }
   }
  },
  {
   "cell_type": "code",
   "execution_count": 28,
   "outputs": [
    {
     "name": "stdout",
     "text": [
      "Max text length is 4385\n"
     ],
     "output_type": "stream"
    }
   ],
   "source": [
    "df['reviewLength'] = df.reviewText.str.lower().str.split().apply(len)\n",
    "lengths = df.reviewLength.value_counts()\n",
    "print(f\"Max text length is {df.reviewLength.max()}\")"
   ],
   "metadata": {
    "collapsed": false,
    "pycharm": {
     "name": "#%%\n",
     "is_executing": false
    }
   }
  },
  {
   "cell_type": "code",
   "execution_count": 29,
   "outputs": [],
   "source": [
    "# index = df.reviewLength.argmax()\n",
    "# pprint(df.iloc[index].reviewText)"
   ],
   "metadata": {
    "collapsed": false,
    "pycharm": {
     "name": "#%%\n",
     "is_executing": false
    }
   }
  },
  {
   "cell_type": "markdown",
   "source": [
    "The distribution of review word count"
   ],
   "metadata": {
    "collapsed": false,
    "pycharm": {
     "name": "#%% md\n"
    }
   }
  },
  {
   "cell_type": "code",
   "execution_count": 30,
   "outputs": [
    {
     "data": {
      "text/plain": "<Figure size 432x288 with 1 Axes>",
      "image/png": "[encoded data removed]"
     },
     "metadata": {
      "needs_background": "light"
     },
     "output_type": "display_data"
    }
   ],
   "source": [
    "#remove_outliers = df[np.abs(df.reviewLength-df.reviewLength.mean())<=(3*df.reviewLength.std())] \n",
    "#keep only the ones that are within +3 to -3 standard deviations in the column 'reviewLength'\n",
    "\n",
    "#ax = sns.distplot(remove_outliers.reviewLength)\n",
    "ax = sns.distplot(df.reviewLength)\n",
    "ax.set(ylabel='Counts', title=\"Distribution of review word count\")\n",
    "# Mention the removal of outliers due to long review lengths\n",
    "ax.get_figure().tight_layout()\n",
    "ax.get_figure().savefig(\"distribution_of_review_lengths.png\")"
   ],
   "metadata": {
    "collapsed": false,
    "pycharm": {
     "name": "#%%\n",
     "is_executing": false
    }
   }
  },
  {
   "cell_type": "markdown",
   "source": [
    "The distribution of review words"
   ],
   "metadata": {
    "collapsed": false,
    "pycharm": {
     "name": "#%% md\n"
    }
   }
  },
  {
   "cell_type": "code",
   "execution_count": 31,
   "outputs": [
    {
     "name": "stdout",
     "text": [
      "[('the', 5056037), ('and', 3583044), ('to', 3120562), ('of', 2141465), ('is', 1779892), ('it', 1739920), ('this', 1738039), ('in', 1510812), ('that', 1352471), ('book', 1245950), ('was', 1231602), ('for', 1092393), ('her', 930686), ('with', 915182), ('you', 899761), ('but', 829963), ('story', 752838), ('she', 740649), ('read', 684330), ('he', 626288)]\n"
     ],
     "output_type": "stream"
    }
   ],
   "source": [
    "def get_top_n_words(corpus, n=None):\n",
    "    vec = CountVectorizer().fit(corpus)\n",
    "    bag_of_words = vec.transform(corpus)\n",
    "    sum_words = bag_of_words.sum(axis=0) \n",
    "    words_freq = [(word, sum_words[0, idx]) for word, idx in vec.vocabulary_.items()]\n",
    "    words_freq =sorted(words_freq, key = lambda x: x[1], reverse=True)\n",
    "    return words_freq[:n]\n",
    "\n",
    "common_words = get_top_n_words(df.reviewText, 20)\n",
    "print(common_words)"
   ],
   "metadata": {
    "collapsed": false,
    "pycharm": {
     "name": "#%%\n",
     "is_executing": false
    }
   }
  },
  {
   "cell_type": "code",
   "execution_count": 31,
   "outputs": [],
   "source": [
    "\n"
   ],
   "metadata": {
    "collapsed": false,
    "pycharm": {
     "name": "#%%\n",
     "is_executing": false
    }
   }
  }
 ],
 "metadata": {
  "kernelspec": {
   "display_name": "Python 3",
   "language": "python",
   "name": "python3"
  },
  "language_info": {
   "codemirror_mode": {
    "name": "ipython",
    "version": 2
   },
   "file_extension": ".py",
   "mimetype": "text/x-python",
   "name": "python",
   "nbconvert_exporter": "python",
   "pygments_lexer": "ipython2",
   "version": "2.7.6"
  },
  "pycharm": {
   "stem_cell": {
    "cell_type": "raw",
    "source": [],
    "metadata": {
     "collapsed": false
    }
   }
  }
 },
 "nbformat": 4,
 "nbformat_minor": 0
}