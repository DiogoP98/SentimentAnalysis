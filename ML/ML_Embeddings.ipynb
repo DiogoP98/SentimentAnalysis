{
  "nbformat": 4,
  "nbformat_minor": 0,
  "metadata": {
    "kernelspec": {
      "name": "python3",
      "display_name": "Python 3"
    },
    "language_info": {
      "codemirror_mode": {
        "name": "ipython",
        "version": 2
      },
      "file_extension": ".py",
      "mimetype": "text/x-python",
      "name": "python",
      "nbconvert_exporter": "python",
      "pygments_lexer": "ipython2",
      "version": "2.7.6"
    },
    "colab": {
      "name": "ML_Embeddings.ipynb",
      "provenance": [],
      "toc_visible": true,
      "machine_shape": "hm"
    },
    "accelerator": "GPU"
  },
  "cells": [
    {
      "cell_type": "code",
      "metadata": {
        "pycharm": {
          "name": "#%%\n"
        },
        "id": "ny8oTTL1iAOI",
        "colab_type": "code",
        "colab": {}
      },
      "source": [
        "\n",
        "import numpy as np\n",
        "import pandas as pd\n",
        "from imblearn.pipeline import Pipeline as imPipeline\n",
        "from imblearn.under_sampling import RandomUnderSampler\n",
        "from sklearn.ensemble import RandomForestClassifier\n",
        "from sklearn.feature_extraction.text import TfidfVectorizer, CountVectorizer\n",
        "from sklearn.metrics import classification_report, f1_score, roc_auc_score\n",
        "from sklearn.model_selection import train_test_split, GridSearchCV\n",
        "from sklearn.naive_bayes import MultinomialNB, BernoulliNB\n",
        "from sklearn.pipeline import Pipeline\n",
        "from sklearn.preprocessing import LabelEncoder\n",
        "from spacy.lang.en.stop_words import STOP_WORDS\n",
        "from sklearn.base import TransformerMixin, BaseEstimator\n",
        "import spacy\n",
        "from tqdm import tqdm\n"
      ],
      "execution_count": 0,
      "outputs": []
    },
    {
      "cell_type": "code",
      "metadata": {
        "id": "o-UrZdPUjj6M",
        "colab_type": "code",
        "outputId": "e216b13f-c51e-4ed8-a9ca-2a55c0f75408",
        "colab": {
          "base_uri": "https://localhost:8080/",
          "height": 593
        }
      },
      "source": [
        "!python -m spacy download en_core_web_lg"
      ],
      "execution_count": 0,
      "outputs": [
        {
          "output_type": "stream",
          "text": [
            "Collecting en_core_web_lg==2.2.5\n",
            "\u001b[?25l  Downloading https://github.com/explosion/spacy-models/releases/download/en_core_web_lg-2.2.5/en_core_web_lg-2.2.5.tar.gz (827.9MB)\n",
            "\u001b[K     |████████████████████████████████| 827.9MB 1.2MB/s \n",
            "\u001b[?25hRequirement already satisfied: spacy>=2.2.2 in /usr/local/lib/python3.6/dist-packages (from en_core_web_lg==2.2.5) (2.2.4)\n",
            "Requirement already satisfied: preshed<3.1.0,>=3.0.2 in /usr/local/lib/python3.6/dist-packages (from spacy>=2.2.2->en_core_web_lg==2.2.5) (3.0.2)\n",
            "Requirement already satisfied: blis<0.5.0,>=0.4.0 in /usr/local/lib/python3.6/dist-packages (from spacy>=2.2.2->en_core_web_lg==2.2.5) (0.4.1)\n",
            "Requirement already satisfied: catalogue<1.1.0,>=0.0.7 in /usr/local/lib/python3.6/dist-packages (from spacy>=2.2.2->en_core_web_lg==2.2.5) (1.0.0)\n",
            "Requirement already satisfied: plac<1.2.0,>=0.9.6 in /usr/local/lib/python3.6/dist-packages (from spacy>=2.2.2->en_core_web_lg==2.2.5) (1.1.3)\n",
            "Requirement already satisfied: wasabi<1.1.0,>=0.4.0 in /usr/local/lib/python3.6/dist-packages (from spacy>=2.2.2->en_core_web_lg==2.2.5) (0.6.0)\n",
            "Requirement already satisfied: srsly<1.1.0,>=1.0.2 in /usr/local/lib/python3.6/dist-packages (from spacy>=2.2.2->en_core_web_lg==2.2.5) (1.0.2)\n",
            "Requirement already satisfied: murmurhash<1.1.0,>=0.28.0 in /usr/local/lib/python3.6/dist-packages (from spacy>=2.2.2->en_core_web_lg==2.2.5) (1.0.2)\n",
            "Requirement already satisfied: thinc==7.4.0 in /usr/local/lib/python3.6/dist-packages (from spacy>=2.2.2->en_core_web_lg==2.2.5) (7.4.0)\n",
            "Requirement already satisfied: numpy>=1.15.0 in /usr/local/lib/python3.6/dist-packages (from spacy>=2.2.2->en_core_web_lg==2.2.5) (1.18.2)\n",
            "Requirement already satisfied: setuptools in /usr/local/lib/python3.6/dist-packages (from spacy>=2.2.2->en_core_web_lg==2.2.5) (46.1.3)\n",
            "Requirement already satisfied: requests<3.0.0,>=2.13.0 in /usr/local/lib/python3.6/dist-packages (from spacy>=2.2.2->en_core_web_lg==2.2.5) (2.21.0)\n",
            "Requirement already satisfied: cymem<2.1.0,>=2.0.2 in /usr/local/lib/python3.6/dist-packages (from spacy>=2.2.2->en_core_web_lg==2.2.5) (2.0.3)\n",
            "Requirement already satisfied: tqdm<5.0.0,>=4.38.0 in /usr/local/lib/python3.6/dist-packages (from spacy>=2.2.2->en_core_web_lg==2.2.5) (4.38.0)\n",
            "Requirement already satisfied: importlib-metadata>=0.20; python_version < \"3.8\" in /usr/local/lib/python3.6/dist-packages (from catalogue<1.1.0,>=0.0.7->spacy>=2.2.2->en_core_web_lg==2.2.5) (1.6.0)\n",
            "Requirement already satisfied: chardet<3.1.0,>=3.0.2 in /usr/local/lib/python3.6/dist-packages (from requests<3.0.0,>=2.13.0->spacy>=2.2.2->en_core_web_lg==2.2.5) (3.0.4)\n",
            "Requirement already satisfied: certifi>=2017.4.17 in /usr/local/lib/python3.6/dist-packages (from requests<3.0.0,>=2.13.0->spacy>=2.2.2->en_core_web_lg==2.2.5) (2020.4.5.1)\n",
            "Requirement already satisfied: idna<2.9,>=2.5 in /usr/local/lib/python3.6/dist-packages (from requests<3.0.0,>=2.13.0->spacy>=2.2.2->en_core_web_lg==2.2.5) (2.8)\n",
            "Requirement already satisfied: urllib3<1.25,>=1.21.1 in /usr/local/lib/python3.6/dist-packages (from requests<3.0.0,>=2.13.0->spacy>=2.2.2->en_core_web_lg==2.2.5) (1.24.3)\n",
            "Requirement already satisfied: zipp>=0.5 in /usr/local/lib/python3.6/dist-packages (from importlib-metadata>=0.20; python_version < \"3.8\"->catalogue<1.1.0,>=0.0.7->spacy>=2.2.2->en_core_web_lg==2.2.5) (3.1.0)\n",
            "Building wheels for collected packages: en-core-web-lg\n",
            "  Building wheel for en-core-web-lg (setup.py) ... \u001b[?25l\u001b[?25hdone\n",
            "  Created wheel for en-core-web-lg: filename=en_core_web_lg-2.2.5-cp36-none-any.whl size=829180944 sha256=34c30daa2d32a2c822e7aa82ef9ded328192992d0f4535f784afd3ad5608619f\n",
            "  Stored in directory: /tmp/pip-ephem-wheel-cache-6j7g65ph/wheels/2a/c1/a6/fc7a877b1efca9bc6a089d6f506f16d3868408f9ff89f8dbfc\n",
            "Successfully built en-core-web-lg\n",
            "Installing collected packages: en-core-web-lg\n",
            "Successfully installed en-core-web-lg-2.2.5\n",
            "\u001b[38;5;2m✔ Download and installation successful\u001b[0m\n",
            "You can now load the model via spacy.load('en_core_web_lg')\n"
          ],
          "name": "stdout"
        }
      ]
    },
    {
      "cell_type": "code",
      "metadata": {
        "pycharm": {
          "name": "#%%\n"
        },
        "id": "dTViL1txiAOI",
        "colab_type": "code",
        "outputId": "f62075a9-4466-4511-91d9-fd07417782b1",
        "colab": {
          "base_uri": "https://localhost:8080/",
          "height": 34
        }
      },
      "source": [
        "from google.colab import drive\n",
        "drive.mount('/content/drive')\n",
        "#For Google colab only"
      ],
      "execution_count": 0,
      "outputs": [
        {
          "output_type": "stream",
          "text": [
            "Drive already mounted at /content/drive; to attempt to forcibly remount, call drive.mount(\"/content/drive\", force_remount=True).\n"
          ],
          "name": "stdout"
        }
      ]
    },
    {
      "cell_type": "code",
      "metadata": {
        "id": "Cuu7-2PfiPSM",
        "colab_type": "code",
        "outputId": "016548e3-ff1a-4f53-fca9-3e709eb23a01",
        "colab": {
          "base_uri": "https://localhost:8080/",
          "height": 72
        }
      },
      "source": [
        "df = pd.read_csv(\"/content/drive/My Drive/notebooks/new_clean_2million.csv\")\n",
        "df = df[df['reviewText'].notna()]\n",
        "#df = df.dropna()"
      ],
      "execution_count": 0,
      "outputs": [
        {
          "output_type": "stream",
          "text": [
            "/usr/local/lib/python3.6/dist-packages/IPython/core/interactiveshell.py:2718: DtypeWarning: Columns (10) have mixed types.Specify dtype option on import or set low_memory=False.\n",
            "  interactivity=interactivity, compiler=compiler, result=result)\n"
          ],
          "name": "stderr"
        }
      ]
    },
    {
      "cell_type": "markdown",
      "metadata": {
        "collapsed": false,
        "pycharm": {
          "name": "#%% md\n"
        },
        "id": "h1kPE0kPiAOI",
        "colab_type": "text"
      },
      "source": [
        "Split data"
      ]
    },
    {
      "cell_type": "code",
      "metadata": {
        "pycharm": {
          "name": "#%%\n"
        },
        "id": "ox4YgwT-iAOI",
        "colab_type": "code",
        "colab": {}
      },
      "source": [
        "X = df.reviewText.values\n",
        "y = df.overall.values"
      ],
      "execution_count": 0,
      "outputs": []
    },
    {
      "cell_type": "code",
      "metadata": {
        "pycharm": {
          "name": "#%%\n"
        },
        "id": "gLexHoMMiAOI",
        "colab_type": "code",
        "colab": {}
      },
      "source": [
        "num = len(df)\n",
        "X, y  = X[:num], y[:num]\n",
        "le = LabelEncoder()\n",
        "y = le.fit_transform(y)"
      ],
      "execution_count": 0,
      "outputs": []
    },
    {
      "cell_type": "code",
      "metadata": {
        "pycharm": {
          "name": "#%%\n"
        },
        "id": "wKTkjaSCiAOI",
        "colab_type": "code",
        "colab": {}
      },
      "source": [
        "# vectoriser = TfidfVectorizer(analyzer='word', max_features=5000)\n",
        "# X = vectoriser.fit_transform(X)\n",
        "# rus = RandomUnderSampler()\n",
        "# X_rus, y_rus = rus.fit_sample(X, y)"
      ],
      "execution_count": 0,
      "outputs": []
    },
    {
      "cell_type": "code",
      "metadata": {
        "pycharm": {
          "name": "#%%\n"
        },
        "id": "LmPk4RkjiAOI",
        "colab_type": "code",
        "colab": {}
      },
      "source": [
        "\n",
        "def train_predict(pipline):\n",
        "    pipeline.fit(X_train, y_train)\n",
        "    y_pred = pipeline.predict(X_test)\n",
        "    score = classification_report(y_test, y_pred)\n",
        "    #score = roc_auc_score(y_test, y_pred, average=\"macro\")\n",
        "    print(score)\n"
      ],
      "execution_count": 0,
      "outputs": []
    },
    {
      "cell_type": "markdown",
      "metadata": {
        "collapsed": false,
        "pycharm": {
          "name": "#%% md\n",
          "is_executing": false
        },
        "id": "JIz6sseGiAOI",
        "colab_type": "text"
      },
      "source": [
        "Embeddings Converter\n"
      ]
    },
    {
      "cell_type": "code",
      "metadata": {
        "pycharm": {
          "name": "#%%\n"
        },
        "id": "LmRlRCMJiAOI",
        "colab_type": "code",
        "colab": {}
      },
      "source": [
        "#!python -m spacy download en_core_web_lg\n",
        "disable = ['textcat', 'ner', 'parser']\n",
        "nlp= spacy.load(\"/content/drive/My Drive/notebooks/la_vectors_wiki_lg\", disable=disable)\n",
        "#nlp = spacy.load(\"en_core_web_lg\", disable=disable)\n"
      ],
      "execution_count": 0,
      "outputs": []
    },
    {
      "cell_type": "code",
      "metadata": {
        "id": "z4ZG7FuxDeoM",
        "colab_type": "code",
        "colab": {}
      },
      "source": [
        "disable = ['textcat', 'ner', 'parser']\n",
        "nlp = spacy.load(\"en_core_web_lg\", disable=disable)"
      ],
      "execution_count": 0,
      "outputs": []
    },
    {
      "cell_type": "code",
      "metadata": {
        "id": "mOcdiGtt79QY",
        "colab_type": "code",
        "outputId": "797829fe-eefa-4a55-c94b-1dacdf766e38",
        "colab": {
          "base_uri": "https://localhost:8080/",
          "height": 34
        }
      },
      "source": [
        "vectors = np.empty(shape=(len(df),300))\n",
        "missed = 0\n",
        "for inx,text in enumerate(tqdm(X)):\n",
        "  try:\n",
        "    vectors[inx] = nlp(text).vector\n",
        "  except:\n",
        "    missed +=1\n"
      ],
      "execution_count": 0,
      "outputs": [
        {
          "output_type": "stream",
          "text": [
            "  4%|▍         | 99577/2461627 [09:23<3:50:47, 170.58it/s]"
          ],
          "name": "stderr"
        }
      ]
    },
    {
      "cell_type": "code",
      "metadata": {
        "id": "XMPnMrmji0RY",
        "colab_type": "code",
        "colab": {}
      },
      "source": [
        "#X_train, X_test, y_train, y_test = train_test_split(X_rus, y_rus, test_size=0.33, random_state=42)\n",
        "X_train, X_test, y_train, y_test = train_test_split(vectors, y, test_size=0.33, random_state=42)"
      ],
      "execution_count": 0,
      "outputs": []
    },
    {
      "cell_type": "code",
      "metadata": {
        "pycharm": {
          "name": "#%%\n"
        },
        "id": "glVnpyOdiAOI",
        "colab_type": "code",
        "colab": {}
      },
      "source": [
        "def make_balance_pipe(steps):\n",
        "    \n",
        "    \n",
        "    x = list(range(len(steps)))\n",
        "    pipeline= [(str(x),y) for x,y in zip(x,steps)]\n",
        "\n",
        "    return imPipeline(pipeline)\n"
      ],
      "execution_count": 0,
      "outputs": []
    },
    {
      "cell_type": "markdown",
      "metadata": {
        "collapsed": false,
        "pycharm": {
          "name": "#%% md\n"
        },
        "id": "w6fMKyhniAOI",
        "colab_type": "text"
      },
      "source": [
        "Naive Bayes - does not work with vector embeddings\n"
      ]
    },
    {
      "cell_type": "markdown",
      "metadata": {
        "collapsed": false,
        "pycharm": {
          "name": "#%% md\n",
          "is_executing": false
        },
        "id": "9kIyyhdFiAOI",
        "colab_type": "text"
      },
      "source": [
        "Max Entropy"
      ]
    },
    {
      "cell_type": "code",
      "metadata": {
        "pycharm": {
          "name": "#%%\n"
        },
        "id": "SCcseQDDiAOI",
        "colab_type": "code",
        "colab": {}
      },
      "source": [
        "from sklearn.linear_model import LogisticRegression, SGDClassifier"
      ],
      "execution_count": 0,
      "outputs": []
    },
    {
      "cell_type": "code",
      "metadata": {
        "pycharm": {
          "name": "#%%\n"
        },
        "id": "67VqiWEmiAPs",
        "colab_type": "code",
        "colab": {}
      },
      "source": [
        "\n",
        "max_ent = Pipeline([\n",
        "    ('classifier', LogisticRegression(penalty='l2', C=1.0)),\n",
        "])\n",
        "\n",
        "pipeline = Pipeline([\n",
        "    ('vectoriser', tfidf_vectoriser),\n",
        "    ('classifier', max_ent)\n",
        "])"
      ],
      "execution_count": 0,
      "outputs": []
    },
    {
      "cell_type": "code",
      "metadata": {
        "pycharm": {
          "name": "#%%\n"
        },
        "id": "ypbQ_IDaiAPs",
        "colab_type": "code",
        "outputId": "572edaf0-58a7-4c9a-9c95-408b630a7f42",
        "colab": {}
      },
      "source": [
        "train_predict(pipeline)"
      ],
      "execution_count": 0,
      "outputs": [
        {
          "output_type": "stream",
          "text": [
            "/home/alex/anaconda3/envs/deepLearning/lib/python3.7/site-packages/sklearn/linear_model/_logistic.py:940: ConvergenceWarning: lbfgs failed to converge (status=1):\n",
            "STOP: TOTAL NO. of ITERATIONS REACHED LIMIT.\n",
            "\n",
            "Increase the number of iterations (max_iter) or scale the data as shown in:\n",
            "    https://scikit-learn.org/stable/modules/preprocessing.html\n",
            "Please also refer to the documentation for alternative solver options:\n",
            "    https://scikit-learn.org/stable/modules/linear_model.html#logistic-regression\n",
            "  extra_warning_msg=_LOGISTIC_SOLVER_CONVERGENCE_MSG)\n"
          ],
          "name": "stderr"
        },
        {
          "output_type": "stream",
          "text": [
            "0.20957725946613334\n"
          ],
          "name": "stdout"
        }
      ]
    },
    {
      "cell_type": "markdown",
      "metadata": {
        "collapsed": false,
        "pycharm": {
          "name": "#%% md\n"
        },
        "id": "-yF8DPYaiAPs",
        "colab_type": "text"
      },
      "source": [
        "Logistic Regression"
      ]
    },
    {
      "cell_type": "code",
      "metadata": {
        "pycharm": {
          "name": "#%%\n",
          "is_executing": false
        },
        "id": "r1Eg8pMziAPs",
        "colab_type": "code",
        "colab": {}
      },
      "source": [
        "params={\"C\":np.logspace(-3,3,7), \"penalty\":[\"l1\",\"l2\"]}\n",
        "logistic_regression = Pipeline([\n",
        "    ('classifier', GridSearchCV(LogisticRegression(), params, cv=10)),\n",
        "])\n",
        "\n",
        "pipeline = Pipeline([\n",
        "    ('vectoriser', tfidf_vectoriser),\n",
        "    ('classifier', logistic_regression)\n",
        "])"
      ],
      "execution_count": 0,
      "outputs": []
    },
    {
      "cell_type": "code",
      "metadata": {
        "pycharm": {
          "name": "#%%\n",
          "is_executing": false
        },
        "id": "STLjNSIBiAPs",
        "colab_type": "code",
        "colab": {}
      },
      "source": [
        "train_predict(pipeline)\n",
        "\n",
        "\n"
      ],
      "execution_count": 0,
      "outputs": []
    },
    {
      "cell_type": "markdown",
      "metadata": {
        "collapsed": false,
        "pycharm": {
          "name": "#%% md\n"
        },
        "id": "IO7gYS8hiAPs",
        "colab_type": "text"
      },
      "source": [
        "### Bagging Models"
      ]
    },
    {
      "cell_type": "markdown",
      "metadata": {
        "collapsed": false,
        "pycharm": {
          "name": "#%% md\n"
        },
        "id": "q2FWpa_WiAPs",
        "colab_type": "text"
      },
      "source": [
        "Random Forest"
      ]
    },
    {
      "cell_type": "code",
      "metadata": {
        "pycharm": {
          "name": "#%%\n",
          "is_executing": false
        },
        "id": "l5PQe1rUiAPs",
        "colab_type": "code",
        "colab": {}
      },
      "source": [
        "from sklearn.model_selection import RandomizedSearchCV# Number of trees in random forest\n",
        "n_estimators = [int(x) for x in np.linspace(start = 200, stop = 2000, num = 10)]\n",
        "# Number of features to consider at every split\n",
        "max_features = ['auto', 'sqrt']\n",
        "# Maximum number of levels in tree\n",
        "max_depth = [int(x) for x in np.linspace(10, 110, num = 11)]\n",
        "max_depth.append(None)\n",
        "# Minimum number of samples required to split a node\n",
        "min_samples_split = [2, 5, 10]\n",
        "# Minimum number of samples required at each leaf node\n",
        "min_samples_leaf = [1, 2, 4]\n",
        "# Method of selecting samples for training each tree\n",
        "bootstrap = [True, False]# Create the random grid\n",
        "random_grid = {'n_estimators': n_estimators,\n",
        "               'max_features': max_features,\n",
        "               'max_depth': max_depth,\n",
        "               'min_samples_split': min_samples_split,\n",
        "               'min_samples_leaf': min_samples_leaf,\n",
        "               'bootstrap': bootstrap}"
      ],
      "execution_count": 0,
      "outputs": []
    },
    {
      "cell_type": "code",
      "metadata": {
        "pycharm": {
          "name": "#%%\n",
          "is_executing": false
        },
        "id": "FKsachMuiAPs",
        "colab_type": "code",
        "colab": {}
      },
      "source": [
        "# random_forest = Pipeline([\n",
        "#     ('classifier', RandomizedSearchCV(estimator = RandomForestClassifier(), param_distributions = random_grid, \n",
        "#                                       n_iter = 100, cv = 3, verbose=2, random_state=42, \n",
        "#                                       n_jobs = -1)),\n",
        "# ])\n",
        "\n",
        "random_forest = Pipeline([\n",
        "    ('classifier', RandomForestClassifier()),\n",
        "])\n",
        "\n",
        "pipeline = Pipeline([\n",
        "    ('classifier', random_forest)\n",
        "])"
      ],
      "execution_count": 0,
      "outputs": []
    },
    {
      "cell_type": "code",
      "metadata": {
        "pycharm": {
          "name": "#%%\n",
          "is_executing": false
        },
        "id": "oemLU8v3iAPs",
        "colab_type": "code",
        "colab": {}
      },
      "source": [
        "train_predict(pipeline)"
      ],
      "execution_count": 0,
      "outputs": []
    },
    {
      "cell_type": "markdown",
      "metadata": {
        "collapsed": false,
        "pycharm": {
          "name": "#%% md\n"
        },
        "id": "qMlJbLQGiAPs",
        "colab_type": "text"
      },
      "source": [
        "### Boosting Models"
      ]
    },
    {
      "cell_type": "markdown",
      "metadata": {
        "collapsed": false,
        "pycharm": {
          "name": "#%% md\n"
        },
        "id": "ybMT0P-XiAPs",
        "colab_type": "text"
      },
      "source": [
        "XGBoost\n"
      ]
    },
    {
      "cell_type": "code",
      "metadata": {
        "pycharm": {
          "name": "#%%\n"
        },
        "id": "9COHNZn-iAPs",
        "colab_type": "code",
        "colab": {}
      },
      "source": [
        "# !wget https://s3-us-west-2.amazonaws.com/xgboost-wheels/xgboost-0.81-py2.py3-none-manylinux1_x86_64.whl\n",
        "# !pip uninstall xgboost --yes\n",
        "# !pip install xgboost-0.81-py2.py3-none-manylinux1_x86_64.whl\n",
        "\n",
        "# For Google Colab Only"
      ],
      "execution_count": 0,
      "outputs": []
    },
    {
      "cell_type": "code",
      "metadata": {
        "pycharm": {
          "name": "#%%\n"
        },
        "id": "3O0YeDGbiAPs",
        "colab_type": "code",
        "colab": {}
      },
      "source": [
        "from xgboost import XGBClassifier"
      ],
      "execution_count": 0,
      "outputs": []
    },
    {
      "cell_type": "code",
      "metadata": {
        "pycharm": {
          "name": "#%%\n"
        },
        "id": "e3JWDLrPiAPs",
        "colab_type": "code",
        "colab": {}
      },
      "source": [
        "xgb_params = {'eta': 0.3,\n",
        "              'max_depth': 5,\n",
        "              'subsample': 0.8,\n",
        "              'colsample_bytree': 0.8,\n",
        "              'objective': 'binary:logistic',\n",
        "              'eval_metric': 'auc',\n",
        "              'seed': 23,\n",
        "               'tree_method':\"gpu_hist\"\n",
        "             }\n",
        "params = {\n",
        "    'max_depth': 3,\n",
        "    'objective': 'multi:softmax',  # error evaluation for multiclass training\n",
        "    'num_class': 5,\n",
        "    'n_gpus': 1,\n",
        "    'tree_method':\"gpu_hist\"\n",
        "}\n",
        "\n",
        "xg_boost = Pipeline([\n",
        "    ('classifier', XGBClassifier())\n",
        "])\n",
        "\n",
        "pipeline = Pipeline([\n",
        "    ('classifier', xg_boost)\n",
        "])\n"
      ],
      "execution_count": 0,
      "outputs": []
    },
    {
      "cell_type": "code",
      "metadata": {
        "pycharm": {
          "name": "#%%\n"
        },
        "id": "ZV6aHPRtiAPs",
        "colab_type": "code",
        "outputId": "999735b4-e166-485e-ccef-1ff09a42bcdf",
        "colab": {
          "base_uri": "https://localhost:8080/",
          "height": 225
        }
      },
      "source": [
        "train_predict(pipeline)"
      ],
      "execution_count": 0,
      "outputs": [
        {
          "output_type": "stream",
          "text": [
            "              precision    recall  f1-score   support\n",
            "\n",
            "           0       0.53      0.72      0.61       253\n",
            "           1       0.43      0.25      0.32       183\n",
            "           2       0.28      0.15      0.20       123\n",
            "           3       0.42      0.24      0.31       174\n",
            "           4       0.69      0.88      0.77       416\n",
            "\n",
            "    accuracy                           0.57      1149\n",
            "   macro avg       0.47      0.45      0.44      1149\n",
            "weighted avg       0.53      0.57      0.53      1149\n",
            "\n"
          ],
          "name": "stdout"
        }
      ]
    },
    {
      "cell_type": "markdown",
      "metadata": {
        "collapsed": false,
        "pycharm": {
          "name": "#%% md\n",
          "is_executing": false
        },
        "id": "XAjX-CCXiAPs",
        "colab_type": "text"
      },
      "source": [
        "AdaBoost\n"
      ]
    },
    {
      "cell_type": "code",
      "metadata": {
        "pycharm": {
          "name": "#%%\n"
        },
        "id": "VrxE31TtiAPs",
        "colab_type": "code",
        "colab": {}
      },
      "source": [
        "from sklearn.ensemble import AdaBoostClassifier\n"
      ],
      "execution_count": 0,
      "outputs": []
    },
    {
      "cell_type": "code",
      "metadata": {
        "pycharm": {
          "name": "#%%\n"
        },
        "id": "oq8GoGksiAPs",
        "colab_type": "code",
        "colab": {}
      },
      "source": [
        "\n",
        "adaBoost = Pipeline([\n",
        "    ('classifier', AdaBoostClassifier()),\n",
        "])\n",
        "\n",
        "pipeline = Pipeline([\n",
        "    ('vectoriser', tfidf_vectoriser),\n",
        "    ('classifier', adaBoost)\n",
        "])\n"
      ],
      "execution_count": 0,
      "outputs": []
    },
    {
      "cell_type": "code",
      "metadata": {
        "pycharm": {
          "name": "#%%\n"
        },
        "id": "sxHwwgaviAPs",
        "colab_type": "code",
        "colab": {}
      },
      "source": [
        "train_predict(pipeline)"
      ],
      "execution_count": 0,
      "outputs": []
    },
    {
      "cell_type": "markdown",
      "metadata": {
        "collapsed": false,
        "pycharm": {
          "name": "#%% md\n"
        },
        "id": "IOOCQgE5iAPs",
        "colab_type": "text"
      },
      "source": [
        "\n",
        "Voting classifier"
      ]
    },
    {
      "cell_type": "code",
      "metadata": {
        "pycharm": {
          "name": "#%%\n"
        },
        "id": "YA5UvbzuiAPs",
        "colab_type": "code",
        "colab": {}
      },
      "source": [
        "from sklearn.ensemble import VotingClassifier\n",
        "\n"
      ],
      "execution_count": 0,
      "outputs": []
    },
    {
      "cell_type": "code",
      "metadata": {
        "pycharm": {
          "name": "#%%\n"
        },
        "id": "jGYwXQL2iAPs",
        "colab_type": "code",
        "colab": {}
      },
      "source": [
        "models = [\n",
        "    MultinomialNB(),\n",
        "    BernoulliNB(),\n",
        "    LogisticRegression(),\n",
        "    SGDClassifier(),\n",
        "    RandomForestClassifier(),\n",
        "    AdaBoostClassifier()\n",
        "]\n",
        "\n",
        "m_names = [m.__class__.__name__ for m in models]\n",
        "\n",
        "models = list(zip(m_names, models))\n",
        "vc = VotingClassifier(estimators=models)"
      ],
      "execution_count": 0,
      "outputs": []
    },
    {
      "cell_type": "code",
      "metadata": {
        "pycharm": {
          "name": "#%%\n"
        },
        "id": "RFBZ_acriAPs",
        "colab_type": "code",
        "colab": {}
      },
      "source": [
        "\n",
        "\n",
        "\n",
        "votingClassifier = Pipeline([\n",
        "    ('classifier', vc),\n",
        "])\n",
        "\n",
        "pipeline = Pipeline([\n",
        "    ('vectoriser', tfidf_vectoriser),\n",
        "    ('classifier', votingClassifier)\n",
        "])\n",
        "\n",
        "\n"
      ],
      "execution_count": 0,
      "outputs": []
    },
    {
      "cell_type": "code",
      "metadata": {
        "pycharm": {
          "name": "#%%\n",
          "is_executing": true
        },
        "id": "pEx1EwbjiAPs",
        "colab_type": "code",
        "outputId": "847beae8-0d63-4063-e2c0-87b6504f2ec5",
        "colab": {}
      },
      "source": [
        "train_predict(pipeline)"
      ],
      "execution_count": 0,
      "outputs": [
        {
          "output_type": "stream",
          "text": [
            "/home/alex/anaconda3/envs/deepLearning/lib/python3.7/site-packages/sklearn/linear_model/_logistic.py:940: ConvergenceWarning: lbfgs failed to converge (status=1):\n",
            "STOP: TOTAL NO. of ITERATIONS REACHED LIMIT.\n",
            "\n",
            "Increase the number of iterations (max_iter) or scale the data as shown in:\n",
            "    https://scikit-learn.org/stable/modules/preprocessing.html\n",
            "Please also refer to the documentation for alternative solver options:\n",
            "    https://scikit-learn.org/stable/modules/linear_model.html#logistic-regression\n",
            "  extra_warning_msg=_LOGISTIC_SOLVER_CONVERGENCE_MSG)\n"
          ],
          "name": "stderr"
        }
      ]
    },
    {
      "cell_type": "code",
      "metadata": {
        "pycharm": {
          "name": "#%%\n"
        },
        "id": "BIZEbdCviAPs",
        "colab_type": "code",
        "colab": {}
      },
      "source": [
        "pipeline = make_balance_pipe([TfidfVectorizer(),RandomUnderSampler(),vc])\n",
        "train_predict(pipeline)"
      ],
      "execution_count": 0,
      "outputs": []
    },
    {
      "cell_type": "code",
      "metadata": {
        "pycharm": {
          "name": "#%%\n"
        },
        "id": "5QOBPMJ3iAPs",
        "colab_type": "code",
        "outputId": "b9647b7b-3172-424f-9e60-efbd0fd4f843",
        "colab": {
          "base_uri": "https://localhost:8080/",
          "height": 121
        }
      },
      "source": [
        "df.reviewText.head()"
      ],
      "execution_count": 0,
      "outputs": [
        {
          "output_type": "execute_result",
          "data": {
            "text/plain": [
              "0    this book had sweet romance  laugh out loud mo...\n",
              "1    charlie  is having a bad year because she find...\n",
              "2    this was a great story  the author really deve...\n",
              "3    tucked away was a sweet story about starting o...\n",
              "4    what an incredibly sweet contemporary romance ...\n",
              "Name: reviewText, dtype: object"
            ]
          },
          "metadata": {
            "tags": []
          },
          "execution_count": 27
        }
      ]
    },
    {
      "cell_type": "code",
      "metadata": {
        "id": "9z5nSITqlvGA",
        "colab_type": "code",
        "colab": {}
      },
      "source": [
        ""
      ],
      "execution_count": 0,
      "outputs": []
    }
  ]
}